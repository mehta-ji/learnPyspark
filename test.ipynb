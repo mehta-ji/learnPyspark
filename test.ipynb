{
  "nbformat": 4,
  "nbformat_minor": 0,
  "metadata": {
    "colab": {
      "provenance": [],
      "authorship_tag": "ABX9TyMDldkhOxuTV0owBKFzpUhD",
      "include_colab_link": true
    },
    "kernelspec": {
      "name": "python3",
      "display_name": "Python 3"
    },
    "language_info": {
      "name": "python"
    }
  },
  "cells": [
    {
      "cell_type": "markdown",
      "metadata": {
        "id": "view-in-github",
        "colab_type": "text"
      },
      "source": [
        "<a href=\"https://colab.research.google.com/github/mehta-ji/learnPyspark/blob/main/test.ipynb\" target=\"_parent\"><img src=\"https://colab.research.google.com/assets/colab-badge.svg\" alt=\"Open In Colab\"/></a>"
      ]
    },
    {
      "cell_type": "code",
      "source": [
        "from pyspark.sql import SparkSession"
      ],
      "metadata": {
        "id": "a2tmo2TMHnpu"
      },
      "execution_count": 5,
      "outputs": []
    },
    {
      "cell_type": "code",
      "source": [
        "spark= SparkSession.builder.appName(\"test\").getOrCreate()"
      ],
      "metadata": {
        "id": "yTRcGPUBHy8J"
      },
      "execution_count": 7,
      "outputs": []
    },
    {
      "cell_type": "code",
      "source": [
        "spark"
      ],
      "metadata": {
        "colab": {
          "base_uri": "https://localhost:8080/",
          "height": 219
        },
        "id": "x-tV0Yv4IDQg",
        "outputId": "6bc08de9-0405-4d58-e382-1a6a55aac878"
      },
      "execution_count": 8,
      "outputs": [
        {
          "output_type": "execute_result",
          "data": {
            "text/plain": [
              "<pyspark.sql.session.SparkSession at 0x7db0c8f24a10>"
            ],
            "text/html": [
              "\n",
              "            <div>\n",
              "                <p><b>SparkSession - in-memory</b></p>\n",
              "                \n",
              "        <div>\n",
              "            <p><b>SparkContext</b></p>\n",
              "\n",
              "            <p><a href=\"http://4594ec65c72a:4040\">Spark UI</a></p>\n",
              "\n",
              "            <dl>\n",
              "              <dt>Version</dt>\n",
              "                <dd><code>v3.5.1</code></dd>\n",
              "              <dt>Master</dt>\n",
              "                <dd><code>local[*]</code></dd>\n",
              "              <dt>AppName</dt>\n",
              "                <dd><code>test</code></dd>\n",
              "            </dl>\n",
              "        </div>\n",
              "        \n",
              "            </div>\n",
              "        "
            ]
          },
          "metadata": {},
          "execution_count": 8
        }
      ]
    },
    {
      "cell_type": "code",
      "source": [
        "import pandas as pd"
      ],
      "metadata": {
        "id": "i22pbMyOIEQZ"
      },
      "execution_count": 9,
      "outputs": []
    },
    {
      "cell_type": "code",
      "source": [
        "df= spark.createDataFrame(pd.read_csv(\"http://bit.ly/drinksbycountry\"))"
      ],
      "metadata": {
        "id": "EPC2OLzzIL29"
      },
      "execution_count": 11,
      "outputs": []
    },
    {
      "cell_type": "code",
      "source": [
        "df.show()"
      ],
      "metadata": {
        "colab": {
          "base_uri": "https://localhost:8080/"
        },
        "id": "WDPj8F-DIYWH",
        "outputId": "0aac237f-760a-484a-92b6-57c57ff02712"
      },
      "execution_count": 12,
      "outputs": [
        {
          "output_type": "stream",
          "name": "stdout",
          "text": [
            "+-----------------+-------------+---------------+-------------+----------------------------+-------------+\n",
            "|          country|beer_servings|spirit_servings|wine_servings|total_litres_of_pure_alcohol|    continent|\n",
            "+-----------------+-------------+---------------+-------------+----------------------------+-------------+\n",
            "|      Afghanistan|            0|              0|            0|                         0.0|         Asia|\n",
            "|          Albania|           89|            132|           54|                         4.9|       Europe|\n",
            "|          Algeria|           25|              0|           14|                         0.7|       Africa|\n",
            "|          Andorra|          245|            138|          312|                        12.4|       Europe|\n",
            "|           Angola|          217|             57|           45|                         5.9|       Africa|\n",
            "|Antigua & Barbuda|          102|            128|           45|                         4.9|North America|\n",
            "|        Argentina|          193|             25|          221|                         8.3|South America|\n",
            "|          Armenia|           21|            179|           11|                         3.8|       Europe|\n",
            "|        Australia|          261|             72|          212|                        10.4|      Oceania|\n",
            "|          Austria|          279|             75|          191|                         9.7|       Europe|\n",
            "|       Azerbaijan|           21|             46|            5|                         1.3|       Europe|\n",
            "|          Bahamas|          122|            176|           51|                         6.3|North America|\n",
            "|          Bahrain|           42|             63|            7|                         2.0|         Asia|\n",
            "|       Bangladesh|            0|              0|            0|                         0.0|         Asia|\n",
            "|         Barbados|          143|            173|           36|                         6.3|North America|\n",
            "|          Belarus|          142|            373|           42|                        14.4|       Europe|\n",
            "|          Belgium|          295|             84|          212|                        10.5|       Europe|\n",
            "|           Belize|          263|            114|            8|                         6.8|North America|\n",
            "|            Benin|           34|              4|           13|                         1.1|       Africa|\n",
            "|           Bhutan|           23|              0|            0|                         0.4|         Asia|\n",
            "+-----------------+-------------+---------------+-------------+----------------------------+-------------+\n",
            "only showing top 20 rows\n",
            "\n"
          ]
        }
      ]
    },
    {
      "cell_type": "code",
      "source": [],
      "metadata": {
        "id": "NSJ03awZIaJa"
      },
      "execution_count": null,
      "outputs": []
    }
  ]
}